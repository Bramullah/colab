{
  "nbformat": 4,
  "nbformat_minor": 0,
  "metadata": {
    "colab": {
      "provenance": []
    },
    "kernelspec": {
      "name": "python3",
      "display_name": "Python 3"
    },
    "language_info": {
      "name": "python"
    }
  },
  "cells": [
    {
      "cell_type": "markdown",
      "source": [
        "#Ibrahim Bramullah - 3IA02\n",
        "Kecerdasan Buatan _ LA3"
      ],
      "metadata": {
        "id": "hBcKIDOwX2tJ"
      }
    },
    {
      "cell_type": "code",
      "execution_count": 7,
      "metadata": {
        "id": "qZpeSSmtXOCh"
      },
      "outputs": [],
      "source": [
        "import numpy as np\n",
        "import matplotlib.pyplot as plt\n",
        "from keras.layers import Input, Dense\n",
        "from keras.models import Model\n",
        "from keras.datasets import mnist"
      ]
    },
    {
      "cell_type": "markdown",
      "source": [
        "Reshape menjadi vektor"
      ],
      "metadata": {
        "id": "2G91Ia1cYcEn"
      }
    },
    {
      "cell_type": "code",
      "source": [
        "(x_train, y_train), (x_test, y_test) = mnist.load_data()\n",
        "\n",
        "x_train = x_train /255.0\n",
        "x_test = x_test /255.0"
      ],
      "metadata": {
        "colab": {
          "base_uri": "https://localhost:8080/"
        },
        "id": "B9LXAnPfX6Fw",
        "outputId": "bc3c8410-f901-4055-fa1d-c73862d56a09"
      },
      "execution_count": 8,
      "outputs": [
        {
          "output_type": "stream",
          "name": "stdout",
          "text": [
            "Downloading data from https://storage.googleapis.com/tensorflow/tf-keras-datasets/mnist.npz\n",
            "11490434/11490434 [==============================] - 1s 0us/step\n"
          ]
        }
      ]
    },
    {
      "cell_type": "code",
      "source": [
        "x_train = np.reshape(x_train, (x_train.shape[0],784))\n",
        "x_test = np.reshape(x_test, (x_test.shape[0],784))"
      ],
      "metadata": {
        "id": "X7P0hb8NYI0-"
      },
      "execution_count": 11,
      "outputs": []
    },
    {
      "cell_type": "code",
      "source": [
        "input_img = Input(shape=(784,))\n",
        "encoded = Dense(512, activation='relu')(input_img)\n",
        "encoded = Dense(256, activation='relu')(encoded)\n",
        "encoded = Dense(128,\n",
        "activation='relu'(encoded)\n",
        "encoded = Dense(64,\n",
        "activation='relu'(encoded)\n",
        "encoded = Dense(32,\n",
        "activation='relu'(encoded)\n",
        "\n",
        "decoded = Dense(64,\n",
        "activation='relu'(encoded)\n",
        "decoded = Dense(128,\n",
        "activation='relu'(decoded)\n",
        "decoded = Dense(512,\n",
        "activation='relu'(decoded)\n",
        "decoded = Dense(784,\n",
        "activation='sigmoid'(decoded)\n",
        "\n",
        "autoencoder = Model(input_img, decoded)"
      ],
      "metadata": {
        "id": "3LqAB1L2YnPH"
      },
      "execution_count": 15,
      "outputs": []
    },
    {
      "cell_type": "code",
      "source": [
        "autoencoder.compile(optimizer='adam', loss='mean_squared_error')\n",
        "autoencoder.fit(x_train, x_train,\n",
        "                epochs=10,\n",
        "                batch_size=100,\n",
        "                shuffle=True,\n",
        "                validation_data=(x_test, x_test))"
      ],
      "metadata": {
        "colab": {
          "base_uri": "https://localhost:8080/"
        },
        "id": "vCz1QeWwZlaY",
        "outputId": "60f075d1-2e62-4b30-a00d-55f690dfd374"
      },
      "execution_count": 17,
      "outputs": [
        {
          "output_type": "stream",
          "name": "stdout",
          "text": [
            "Epoch 1/10\n",
            "600/600 [==============================] - 18s 28ms/step - loss: 0.0317 - val_loss: 0.0193\n",
            "Epoch 2/10\n",
            "600/600 [==============================] - 16s 27ms/step - loss: 0.0178 - val_loss: 0.0158\n",
            "Epoch 3/10\n",
            "600/600 [==============================] - 17s 28ms/step - loss: 0.0153 - val_loss: 0.0142\n",
            "Epoch 4/10\n",
            "600/600 [==============================] - 16s 26ms/step - loss: 0.0137 - val_loss: 0.0131\n",
            "Epoch 5/10\n",
            "600/600 [==============================] - 17s 28ms/step - loss: 0.0127 - val_loss: 0.0123\n",
            "Epoch 6/10\n",
            "600/600 [==============================] - 16s 27ms/step - loss: 0.0121 - val_loss: 0.0117\n",
            "Epoch 7/10\n",
            "600/600 [==============================] - 16s 26ms/step - loss: 0.0116 - val_loss: 0.0114\n",
            "Epoch 8/10\n",
            "600/600 [==============================] - 16s 27ms/step - loss: 0.0112 - val_loss: 0.0111\n",
            "Epoch 9/10\n",
            "600/600 [==============================] - 16s 27ms/step - loss: 0.0109 - val_loss: 0.0113\n",
            "Epoch 10/10\n",
            "600/600 [==============================] - 16s 27ms/step - loss: 0.0104 - val_loss: 0.0106\n"
          ]
        },
        {
          "output_type": "execute_result",
          "data": {
            "text/plain": [
              "<keras.callbacks.History at 0x7f03483ad250>"
            ]
          },
          "metadata": {},
          "execution_count": 17
        }
      ]
    },
    {
      "cell_type": "code",
      "source": [
        "predicted= autoencoder.predict(x_test)"
      ],
      "metadata": {
        "colab": {
          "base_uri": "https://localhost:8080/"
        },
        "id": "jzLX5g2daCaY",
        "outputId": "9751691a-d2d4-4f2d-bb4c-2d3112c37dc4"
      },
      "execution_count": 29,
      "outputs": [
        {
          "output_type": "stream",
          "name": "stdout",
          "text": [
            "313/313 [==============================] - 2s 5ms/step\n"
          ]
        }
      ]
    },
    {
      "cell_type": "code",
      "source": [
        "n = 10\n",
        "plt.figure (figsize=(20,4))\n",
        "for i in range(n):\n",
        "  ax = plt.subplot(2,n, i+1)\n",
        "  plt.imshow(x_test[i].reshape(28,28))\n",
        "  plt.gray()\n",
        "  ax.get_xaxis().set_visible(False)\n",
        "  ax.get_xaxis().set_visible(False)\n",
        "\n",
        "  ax = plt.subplot(2,n , i+1 +n)\n",
        "  plt.imshow(predicted[i].reshape(28, 28))\n",
        "  plt.gray()\n",
        "  ax.get_xaxis().set_visible(False)\n",
        "  ax.get_xaxis().set_visible(False)\n",
        "\n",
        "\n",
        "plt.show()"
      ],
      "metadata": {
        "colab": {
          "base_uri": "https://localhost:8080/",
          "height": 145
        },
        "id": "_3u1mcZaaIYw",
        "outputId": "c9ca4e16-095d-45d3-815b-6186dc59b646"
      },
      "execution_count": 30,
      "outputs": [
        {
          "output_type": "display_data",
          "data": {
            "text/plain": [
              "<Figure size 1440x288 with 20 Axes>"
            ],
            "image/png": "[encoded data removed]"
          },
          "metadata": {
            "needs_background": "light"
          }
        }
      ]
    }
  ]
}